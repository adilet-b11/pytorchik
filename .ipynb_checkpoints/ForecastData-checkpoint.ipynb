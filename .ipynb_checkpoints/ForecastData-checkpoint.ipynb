{
 "cells": [
  {
   "cell_type": "code",
   "execution_count": 2,
   "metadata": {
    "colab": {},
    "colab_type": "code",
    "id": "LxP3ar8K2vSS"
   },
   "outputs": [],
   "source": [
    "import torch \n",
    "import pandas as pd\n",
    "import numpy as np\n",
    "import scipy as sp\n",
    "import matplotlib.pyplot as plt\n",
    "import torch.nn as nn\n",
    "from sklearn.preprocessing import MinMaxScaler"
   ]
  },
  {
   "cell_type": "code",
   "execution_count": 3,
   "metadata": {
    "colab": {
     "base_uri": "https://localhost:8080/",
     "height": 50
    },
    "colab_type": "code",
    "id": "PU5xouoW2-Or",
    "outputId": "18f696a1-61c1-47df-c37c-ce1faead71f5"
   },
   "outputs": [
    {
     "name": "stdout",
     "output_type": "stream",
     "text": [
      "(366, 24)\n",
      "366\n"
     ]
    }
   ],
   "source": [
    "df = pd.read_excel(r'data.xlsx')\n",
    "\n",
    "df_data = df.iloc[:,1:25].values\n",
    "print(df_data.shape)\n",
    "print(len(df_data))\n"
   ]
  },
  {
   "cell_type": "code",
   "execution_count": 4,
   "metadata": {},
   "outputs": [
    {
     "data": {
      "text/html": [
       "<div>\n",
       "<style scoped>\n",
       "    .dataframe tbody tr th:only-of-type {\n",
       "        vertical-align: middle;\n",
       "    }\n",
       "\n",
       "    .dataframe tbody tr th {\n",
       "        vertical-align: top;\n",
       "    }\n",
       "\n",
       "    .dataframe thead th {\n",
       "        text-align: right;\n",
       "    }\n",
       "</style>\n",
       "<table border=\"1\" class=\"dataframe\">\n",
       "  <thead>\n",
       "    <tr style=\"text-align: right;\">\n",
       "      <th></th>\n",
       "      <th>MKTDAY</th>\n",
       "      <th>HE1</th>\n",
       "      <th>HE2</th>\n",
       "      <th>HE3</th>\n",
       "      <th>HE4</th>\n",
       "      <th>HE5</th>\n",
       "      <th>HE6</th>\n",
       "      <th>HE7</th>\n",
       "      <th>HE8</th>\n",
       "      <th>HE9</th>\n",
       "      <th>...</th>\n",
       "      <th>HE15</th>\n",
       "      <th>HE16</th>\n",
       "      <th>HE17</th>\n",
       "      <th>HE18</th>\n",
       "      <th>HE19</th>\n",
       "      <th>HE20</th>\n",
       "      <th>HE21</th>\n",
       "      <th>HE22</th>\n",
       "      <th>HE23</th>\n",
       "      <th>HE24</th>\n",
       "    </tr>\n",
       "  </thead>\n",
       "  <tbody>\n",
       "    <tr>\n",
       "      <td>0</td>\n",
       "      <td>01/01/2016</td>\n",
       "      <td>24919</td>\n",
       "      <td>23971</td>\n",
       "      <td>23513</td>\n",
       "      <td>23234</td>\n",
       "      <td>23566</td>\n",
       "      <td>24265</td>\n",
       "      <td>25975</td>\n",
       "      <td>27261</td>\n",
       "      <td>27506</td>\n",
       "      <td>...</td>\n",
       "      <td>27435</td>\n",
       "      <td>27682</td>\n",
       "      <td>30062</td>\n",
       "      <td>33396</td>\n",
       "      <td>33039</td>\n",
       "      <td>31983</td>\n",
       "      <td>31365</td>\n",
       "      <td>30279</td>\n",
       "      <td>29019</td>\n",
       "      <td>27214</td>\n",
       "    </tr>\n",
       "    <tr>\n",
       "      <td>1</td>\n",
       "      <td>01/02/2016</td>\n",
       "      <td>26532</td>\n",
       "      <td>25540</td>\n",
       "      <td>25093</td>\n",
       "      <td>25218</td>\n",
       "      <td>25264</td>\n",
       "      <td>26351</td>\n",
       "      <td>27637</td>\n",
       "      <td>29376</td>\n",
       "      <td>30354</td>\n",
       "      <td>...</td>\n",
       "      <td>27810</td>\n",
       "      <td>28022</td>\n",
       "      <td>30101</td>\n",
       "      <td>34665</td>\n",
       "      <td>33903</td>\n",
       "      <td>33023</td>\n",
       "      <td>32604</td>\n",
       "      <td>32018</td>\n",
       "      <td>29764</td>\n",
       "      <td>27845</td>\n",
       "    </tr>\n",
       "    <tr>\n",
       "      <td>2</td>\n",
       "      <td>01/03/2016</td>\n",
       "      <td>26851</td>\n",
       "      <td>25911</td>\n",
       "      <td>25558</td>\n",
       "      <td>25671</td>\n",
       "      <td>25625</td>\n",
       "      <td>26328</td>\n",
       "      <td>27246</td>\n",
       "      <td>28908</td>\n",
       "      <td>29594</td>\n",
       "      <td>...</td>\n",
       "      <td>27329</td>\n",
       "      <td>27628</td>\n",
       "      <td>30798</td>\n",
       "      <td>35869</td>\n",
       "      <td>34958</td>\n",
       "      <td>33968</td>\n",
       "      <td>33351</td>\n",
       "      <td>31821</td>\n",
       "      <td>29856</td>\n",
       "      <td>27737</td>\n",
       "    </tr>\n",
       "    <tr>\n",
       "      <td>3</td>\n",
       "      <td>01/04/2016</td>\n",
       "      <td>28265</td>\n",
       "      <td>27910</td>\n",
       "      <td>27673</td>\n",
       "      <td>27897</td>\n",
       "      <td>28939</td>\n",
       "      <td>32094</td>\n",
       "      <td>36658</td>\n",
       "      <td>38661</td>\n",
       "      <td>38342</td>\n",
       "      <td>...</td>\n",
       "      <td>35524</td>\n",
       "      <td>35754</td>\n",
       "      <td>38366</td>\n",
       "      <td>43674</td>\n",
       "      <td>42279</td>\n",
       "      <td>41615</td>\n",
       "      <td>41115</td>\n",
       "      <td>38992</td>\n",
       "      <td>36510</td>\n",
       "      <td>33961</td>\n",
       "    </tr>\n",
       "    <tr>\n",
       "      <td>4</td>\n",
       "      <td>01/05/2016</td>\n",
       "      <td>33188</td>\n",
       "      <td>32968</td>\n",
       "      <td>32306</td>\n",
       "      <td>32482</td>\n",
       "      <td>33341</td>\n",
       "      <td>35961</td>\n",
       "      <td>40252</td>\n",
       "      <td>41292</td>\n",
       "      <td>40369</td>\n",
       "      <td>...</td>\n",
       "      <td>35142</td>\n",
       "      <td>35214</td>\n",
       "      <td>38168</td>\n",
       "      <td>42576</td>\n",
       "      <td>41890</td>\n",
       "      <td>41129</td>\n",
       "      <td>40215</td>\n",
       "      <td>38130</td>\n",
       "      <td>35381</td>\n",
       "      <td>32888</td>\n",
       "    </tr>\n",
       "  </tbody>\n",
       "</table>\n",
       "<p>5 rows × 25 columns</p>\n",
       "</div>"
      ],
      "text/plain": [
       "       MKTDAY    HE1    HE2    HE3    HE4    HE5    HE6    HE7    HE8    HE9  \\\n",
       "0  01/01/2016  24919  23971  23513  23234  23566  24265  25975  27261  27506   \n",
       "1  01/02/2016  26532  25540  25093  25218  25264  26351  27637  29376  30354   \n",
       "2  01/03/2016  26851  25911  25558  25671  25625  26328  27246  28908  29594   \n",
       "3  01/04/2016  28265  27910  27673  27897  28939  32094  36658  38661  38342   \n",
       "4  01/05/2016  33188  32968  32306  32482  33341  35961  40252  41292  40369   \n",
       "\n",
       "   ...   HE15   HE16   HE17   HE18   HE19   HE20   HE21   HE22   HE23   HE24  \n",
       "0  ...  27435  27682  30062  33396  33039  31983  31365  30279  29019  27214  \n",
       "1  ...  27810  28022  30101  34665  33903  33023  32604  32018  29764  27845  \n",
       "2  ...  27329  27628  30798  35869  34958  33968  33351  31821  29856  27737  \n",
       "3  ...  35524  35754  38366  43674  42279  41615  41115  38992  36510  33961  \n",
       "4  ...  35142  35214  38168  42576  41890  41129  40215  38130  35381  32888  \n",
       "\n",
       "[5 rows x 25 columns]"
      ]
     },
     "execution_count": 4,
     "metadata": {},
     "output_type": "execute_result"
    }
   ],
   "source": [
    "df.head()"
   ]
  },
  {
   "cell_type": "code",
   "execution_count": 0,
   "metadata": {
    "colab": {
     "base_uri": "https://localhost:8080/",
     "height": 279
    },
    "colab_type": "code",
    "id": "6WafriHA8LzH",
    "outputId": "612ef7c5-bdad-44f2-fcc6-5b9599fb3482"
   },
   "outputs": [
    {
     "data": {
      "image/png": "[encoded data removed]",
      "text/plain": [
       "<Figure size 432x288 with 1 Axes>"
      ]
     },
     "metadata": {
      "tags": []
     },
     "output_type": "display_data"
    }
   ],
   "source": [
    "plt.plot(df_data)\n",
    "plt.ylabel('energy')\n",
    "plt.xlabel('days')\n",
    "\n",
    "plt.show()\n"
   ]
  },
  {
   "cell_type": "code",
   "execution_count": 0,
   "metadata": {
    "colab": {},
    "colab_type": "code",
    "id": "ktSCFWl3-k1A"
   },
   "outputs": [],
   "source": [
    "#test_data_size = 73\n",
    "\n",
    "permidx = np.random.permutation(np.arange(len(df_data)))  \n",
    "trainpercent = 80.\n",
    "stopat = int(np.floor(len(df_data)*trainpercent/100.))\n",
    "\n",
    "train_data = df_data[:stopat]\n",
    "test_data = df_data[stopat:]\n"
   ]
  },
  {
   "cell_type": "code",
   "execution_count": 0,
   "metadata": {
    "colab": {
     "base_uri": "https://localhost:8080/",
     "height": 50
    },
    "colab_type": "code",
    "id": "asW4dZ_Z_ljf",
    "outputId": "86a75dd7-4a69-4229-a342-b3d2f8d07146"
   },
   "outputs": [
    {
     "name": "stdout",
     "output_type": "stream",
     "text": [
      "(292, 24)\n",
      "(74, 24)\n"
     ]
    }
   ],
   "source": [
    "print(train_data.shape)\n",
    "print(test_data.shape)"
   ]
  },
  {
   "cell_type": "code",
   "execution_count": 0,
   "metadata": {
    "colab": {},
    "colab_type": "code",
    "id": "SGFMQkuiBl1T"
   },
   "outputs": [],
   "source": [
    "scaler = MinMaxScaler(feature_range=(-1,1))\n",
    "train_data_norm = scaler.fit_transform(train_data.reshape(-1,1))"
   ]
  },
  {
   "cell_type": "code",
   "execution_count": 0,
   "metadata": {
    "colab": {
     "base_uri": "https://localhost:8080/",
     "height": 134
    },
    "colab_type": "code",
    "id": "Xzke6_-nCyV4",
    "outputId": "61ab63ca-f242-4071-8991-4ea80309649f"
   },
   "outputs": [
    {
     "name": "stdout",
     "output_type": "stream",
     "text": [
      "[[-0.04813018]\n",
      " [-0.08434241]\n",
      " [-0.10183735]\n",
      " ...\n",
      " [ 0.18388785]\n",
      " [ 0.08140112]\n",
      " [-0.00053478]]\n"
     ]
    }
   ],
   "source": [
    "print(train_data_norm)"
   ]
  },
  {
   "cell_type": "code",
   "execution_count": 0,
   "metadata": {
    "colab": {
     "base_uri": "https://localhost:8080/",
     "height": 50
    },
    "colab_type": "code",
    "id": "gO-rqnArC1LD",
    "outputId": "dc8d36a8-9e26-4b5d-ecbd-b3ec55a746e4"
   },
   "outputs": [
    {
     "name": "stdout",
     "output_type": "stream",
     "text": [
      "tensor([-0.0481, -0.0843, -0.1018,  ...,  0.1839,  0.0814, -0.0005])\n",
      "torch.Size([7008])\n"
     ]
    }
   ],
   "source": [
    "train_data_norm = torch.FloatTensor(train_data_norm).view(-1)\n",
    "print(train_data_norm)\n",
    "print(train_data_norm.shape)\n"
   ]
  },
  {
   "cell_type": "code",
   "execution_count": 0,
   "metadata": {
    "colab": {},
    "colab_type": "code",
    "id": "7UIi9_eEG0aF"
   },
   "outputs": [],
   "source": [
    "train_window = 24"
   ]
  },
  {
   "cell_type": "code",
   "execution_count": 0,
   "metadata": {
    "colab": {},
    "colab_type": "code",
    "id": "HgbIgrsp7dxR"
   },
   "outputs": [],
   "source": [
    "def create_io_seq(input_data, tw):\n",
    "  inout_seq = [] \n",
    "  L = len(input_data)\n",
    "  for i in range(L-tw): #7008-24=6984\n",
    "    train_seq = input_data[i:i+tw] \n",
    "    train_label = input_data[i+tw:i+tw+1] # 24, 25, 26, ..., 7008?\n",
    "    inout_seq.append((train_seq ,train_label))\n",
    "  return inout_seq\n",
    "  "
   ]
  },
  {
   "cell_type": "code",
   "execution_count": 0,
   "metadata": {
    "colab": {},
    "colab_type": "code",
    "id": "T8gof7cx8SUt"
   },
   "outputs": [],
   "source": [
    "train_io_seq = create_io_seq(train_data_norm, train_window)"
   ]
  },
  {
   "cell_type": "code",
   "execution_count": 0,
   "metadata": {
    "colab": {
     "base_uri": "https://localhost:8080/",
     "height": 34
    },
    "colab_type": "code",
    "id": "kATWdN7u8apl",
    "outputId": "83fbe54b-20f2-436f-a026-b67edbdd079a"
   },
   "outputs": [
    {
     "name": "stdout",
     "output_type": "stream",
     "text": [
      "6984\n"
     ]
    }
   ],
   "source": [
    "print(len(train_io_seq))"
   ]
  },
  {
   "cell_type": "code",
   "execution_count": 0,
   "metadata": {
    "colab": {
     "base_uri": "https://localhost:8080/",
     "height": 218
    },
    "colab_type": "code",
    "id": "MnxEIGCp8eI3",
    "outputId": "5a519e59-d6da-45a7-b58f-b1ca027b570e"
   },
   "outputs": [
    {
     "data": {
      "text/plain": [
       "[(tensor([-0.0481, -0.0843, -0.1018, -0.1125, -0.0998, -0.0731, -0.0078,  0.0413,\n",
       "           0.0507,  0.0934,  0.1131,  0.1029,  0.0719,  0.0521,  0.0480,  0.0574,\n",
       "           0.1483,  0.2757,  0.2620,  0.2217,  0.1981,  0.1566,  0.1085,  0.0395]),\n",
       "  tensor([0.0135])),\n",
       " (tensor([-0.0843, -0.1018, -0.1125, -0.0998, -0.0731, -0.0078,  0.0413,  0.0507,\n",
       "           0.0934,  0.1131,  0.1029,  0.0719,  0.0521,  0.0480,  0.0574,  0.1483,\n",
       "           0.2757,  0.2620,  0.2217,  0.1981,  0.1566,  0.1085,  0.0395,  0.0135]),\n",
       "  tensor([-0.0244])),\n",
       " (tensor([-0.1018, -0.1125, -0.0998, -0.0731, -0.0078,  0.0413,  0.0507,  0.0934,\n",
       "           0.1131,  0.1029,  0.0719,  0.0521,  0.0480,  0.0574,  0.1483,  0.2757,\n",
       "           0.2620,  0.2217,  0.1981,  0.1566,  0.1085,  0.0395,  0.0135, -0.0244]),\n",
       "  tensor([-0.0415]))]"
      ]
     },
     "execution_count": 32,
     "metadata": {
      "tags": []
     },
     "output_type": "execute_result"
    }
   ],
   "source": [
    "train_io_seq[:3] #6984 elts, each elt: (sequence of 24 hrs, label)"
   ]
  },
  {
   "cell_type": "code",
   "execution_count": 0,
   "metadata": {
    "colab": {},
    "colab_type": "code",
    "id": "1XQ0dktDAyfk"
   },
   "outputs": [],
   "source": [
    "class LSTM(nn.Module):\n",
    "    def __init__(self, input_size=1, hidden_layer_size=100, output_size=1):\n",
    "        super().__init__()\n",
    "        self.hidden_layer_size = hidden_layer_size\n",
    "\n",
    "        self.lstm = nn.LSTM(input_size, hidden_layer_size)\n",
    "\n",
    "        self.linear = nn.Linear(hidden_layer_size, output_size)\n",
    "\n",
    "        self.hidden_cell = (torch.zeros(1,1,self.hidden_layer_size),\n",
    "                            torch.zeros(1,1,self.hidden_layer_size))\n",
    "\n",
    "    def forward(self, input_seq):\n",
    "        lstm_out, self.hidden_cell = self.lstm(input_seq.view(len(input_seq) ,1, -1), self.hidden_cell)\n",
    "        predictions = self.linear(lstm_out.view(len(input_seq), -1))\n",
    "        return predictions[-1]"
   ]
  },
  {
   "cell_type": "code",
   "execution_count": 0,
   "metadata": {
    "colab": {},
    "colab_type": "code",
    "id": "iH91yZTkBXdn"
   },
   "outputs": [],
   "source": [
    "model = LSTM()\n",
    "loss_function = nn.MSELoss()\n",
    "optimizer = torch.optim.Adam(model.parameters(), lr=0.001)"
   ]
  },
  {
   "cell_type": "code",
   "execution_count": 0,
   "metadata": {
    "colab": {
     "base_uri": "https://localhost:8080/",
     "height": 88
    },
    "colab_type": "code",
    "id": "JfuH_xfvBfpE",
    "outputId": "a3aeac49-64fd-4caa-9492-333d93cafaa3"
   },
   "outputs": [
    {
     "name": "stdout",
     "output_type": "stream",
     "text": [
      "LSTM(\n",
      "  (lstm): LSTM(1, 100)\n",
      "  (linear): Linear(in_features=100, out_features=1, bias=True)\n",
      ")\n"
     ]
    }
   ],
   "source": [
    "print(model)"
   ]
  },
  {
   "cell_type": "code",
   "execution_count": 0,
   "metadata": {
    "colab": {
     "base_uri": "https://localhost:8080/",
     "height": 363
    },
    "colab_type": "code",
    "id": "yyUeyxtZBjnI",
    "outputId": "a1705393-ea9f-47f4-aeb0-64c9fb17b01e"
   },
   "outputs": [
    {
     "ename": "KeyboardInterrupt",
     "evalue": "ignored",
     "output_type": "error",
     "traceback": [
      "\u001b[0;31m---------------------------------------------------------------------------\u001b[0m",
      "\u001b[0;31mKeyboardInterrupt\u001b[0m                         Traceback (most recent call last)",
      "\u001b[0;32m<ipython-input-21-9aa272ca1461>\u001b[0m in \u001b[0;36m<module>\u001b[0;34m()\u001b[0m\n\u001b[1;32m      3\u001b[0m \u001b[0;32mfor\u001b[0m \u001b[0mi\u001b[0m \u001b[0;32min\u001b[0m \u001b[0mrange\u001b[0m\u001b[0;34m(\u001b[0m\u001b[0mepochs\u001b[0m\u001b[0;34m)\u001b[0m\u001b[0;34m:\u001b[0m\u001b[0;34m\u001b[0m\u001b[0;34m\u001b[0m\u001b[0m\n\u001b[1;32m      4\u001b[0m   \u001b[0;32mfor\u001b[0m \u001b[0mseq\u001b[0m\u001b[0;34m,\u001b[0m \u001b[0mlabels\u001b[0m \u001b[0;32min\u001b[0m \u001b[0mtrain_io_seq\u001b[0m\u001b[0;34m:\u001b[0m\u001b[0;34m\u001b[0m\u001b[0;34m\u001b[0m\u001b[0m\n\u001b[0;32m----> 5\u001b[0;31m     \u001b[0moptimizer\u001b[0m\u001b[0;34m.\u001b[0m\u001b[0mzero_grad\u001b[0m\u001b[0;34m(\u001b[0m\u001b[0;34m)\u001b[0m\u001b[0;34m\u001b[0m\u001b[0;34m\u001b[0m\u001b[0m\n\u001b[0m\u001b[1;32m      6\u001b[0m     model.hidden_cell = (torch.zeros(1, 1, model.hidden_layer_size),\n\u001b[1;32m      7\u001b[0m                         torch.zeros(1, 1, model.hidden_layer_size))\n",
      "\u001b[0;32m/usr/local/lib/python3.6/dist-packages/torch/optim/optimizer.py\u001b[0m in \u001b[0;36mzero_grad\u001b[0;34m(self)\u001b[0m\n\u001b[1;32m    163\u001b[0m                 \u001b[0;32mif\u001b[0m \u001b[0mp\u001b[0m\u001b[0;34m.\u001b[0m\u001b[0mgrad\u001b[0m \u001b[0;32mis\u001b[0m \u001b[0;32mnot\u001b[0m \u001b[0;32mNone\u001b[0m\u001b[0;34m:\u001b[0m\u001b[0;34m\u001b[0m\u001b[0;34m\u001b[0m\u001b[0m\n\u001b[1;32m    164\u001b[0m                     \u001b[0mp\u001b[0m\u001b[0;34m.\u001b[0m\u001b[0mgrad\u001b[0m\u001b[0;34m.\u001b[0m\u001b[0mdetach_\u001b[0m\u001b[0;34m(\u001b[0m\u001b[0;34m)\u001b[0m\u001b[0;34m\u001b[0m\u001b[0;34m\u001b[0m\u001b[0m\n\u001b[0;32m--> 165\u001b[0;31m                     \u001b[0mp\u001b[0m\u001b[0;34m.\u001b[0m\u001b[0mgrad\u001b[0m\u001b[0;34m.\u001b[0m\u001b[0mzero_\u001b[0m\u001b[0;34m(\u001b[0m\u001b[0;34m)\u001b[0m\u001b[0;34m\u001b[0m\u001b[0;34m\u001b[0m\u001b[0m\n\u001b[0m\u001b[1;32m    166\u001b[0m \u001b[0;34m\u001b[0m\u001b[0m\n\u001b[1;32m    167\u001b[0m     \u001b[0;32mdef\u001b[0m \u001b[0mstep\u001b[0m\u001b[0;34m(\u001b[0m\u001b[0mself\u001b[0m\u001b[0;34m,\u001b[0m \u001b[0mclosure\u001b[0m\u001b[0;34m)\u001b[0m\u001b[0;34m:\u001b[0m\u001b[0;34m\u001b[0m\u001b[0;34m\u001b[0m\u001b[0m\n",
      "\u001b[0;31mKeyboardInterrupt\u001b[0m: "
     ]
    }
   ],
   "source": [
    "epochs = 150\n",
    "\n",
    "for i in range(epochs):\n",
    "  for seq, labels in train_io_seq:\n",
    "    optimizer.zero_grad()\n",
    "    model.hidden_cell = (torch.zeros(1, 1, model.hidden_layer_size),\n",
    "                        torch.zeros(1, 1, model.hidden_layer_size))\n",
    "\n",
    "    y_pred = model(seq)\n",
    "\n",
    "    single_loss = loss_function(y_pred, labels)\n",
    "    single_loss.backward()\n",
    "    optimizer.step()\n",
    "\n",
    "    if i%25 == 1:\n",
    "        print(f'epoch: {i:3} loss: {single_loss.item():10.8f}')\n",
    "\n",
    "print(f'epoch: {i:3} loss: {single_loss.item():10.10f}')"
   ]
  },
  {
   "cell_type": "code",
   "execution_count": 0,
   "metadata": {
    "colab": {
     "base_uri": "https://localhost:8080/",
     "height": 72
    },
    "colab_type": "code",
    "id": "WSrtDp6CB9Wg",
    "outputId": "e1f3cba8-6457-4e9d-b198-89e88c00d607"
   },
   "outputs": [
    {
     "name": "stdout",
     "output_type": "stream",
     "text": [
      "[-0.8427703976631165, -0.6464324593544006, -0.7550004720687866, -0.6182704567909241, -0.727336049079895, -0.7348989844322205, -0.8429694771766663, -0.7157925963401794, -0.7558960914611816, -0.7629615068435669, -0.7918201088905334, -0.7385809421539307, -0.6496168971061707, -0.7675390839576721, -0.7891332507133484, -0.6703154444694519, -0.7320131063461304, -0.7009652853012085, -0.6873320937156677, -0.6512090563774109, -0.8315255045890808, -0.7456463575363159, -0.508607804775238, -0.40531396865844727]\n",
      "24\n"
     ]
    }
   ],
   "source": [
    "fut_pred = 73\n",
    "\n",
    "test_inputs = train_data_norm[-train_window:].tolist()\n",
    "print(test_inputs)\n",
    "print(len(test_inputs))"
   ]
  },
  {
   "cell_type": "code",
   "execution_count": 0,
   "metadata": {
    "colab": {},
    "colab_type": "code",
    "id": "dtMLXFeCDj6L"
   },
   "outputs": [],
   "source": [
    "model.eval()\n",
    "\n",
    "for i in range(fut_pred):\n",
    "    seq = torch.FloatTensor(test_inputs[-train_window:])\n",
    "    with torch.no_grad():\n",
    "        model.hidden = (torch.zeros(1, 1, model.hidden_layer_size),\n",
    "                        torch.zeros(1, 1, model.hidden_layer_size))\n",
    "        test_inputs.append(model(seq).item())"
   ]
  },
  {
   "cell_type": "code",
   "execution_count": 0,
   "metadata": {
    "colab": {},
    "colab_type": "code",
    "id": "-qFqo-dmD2zY"
   },
   "outputs": [],
   "source": [
    "test_inputs[fut_pred:]\n"
   ]
  },
  {
   "cell_type": "code",
   "execution_count": 0,
   "metadata": {
    "colab": {},
    "colab_type": "code",
    "id": "Dfn82rNTD7Qv"
   },
   "outputs": [],
   "source": [
    "actual_predictions = scaler.inverse_transform(np.array(test_inputs[train_window:] ).reshape(-1, 1))\n",
    "print(actual_predictions)"
   ]
  },
  {
   "cell_type": "code",
   "execution_count": 0,
   "metadata": {
    "colab": {
     "base_uri": "https://localhost:8080/",
     "height": 104
    },
    "colab_type": "code",
    "id": "LhQBSvQPEFy2",
    "outputId": "91946e97-5406-467b-9fb4-060aabf49506"
   },
   "outputs": [
    {
     "name": "stdout",
     "output_type": "stream",
     "text": [
      "[294 295 296 297 298 299 300 301 302 303 304 305 306 307 308 309 310 311\n",
      " 312 313 314 315 316 317 318 319 320 321 322 323 324 325 326 327 328 329\n",
      " 330 331 332 333 334 335 336 337 338 339 340 341 342 343 344 345 346 347\n",
      " 348 349 350 351 352 353 354 355 356 357 358 359 360 361 362 363 364 365\n",
      " 366]\n"
     ]
    }
   ],
   "source": [
    "x = np.arange(294, 367, 1)\n",
    "print(x)"
   ]
  },
  {
   "cell_type": "code",
   "execution_count": 0,
   "metadata": {
    "colab": {
     "base_uri": "https://localhost:8080/",
     "height": 281
    },
    "colab_type": "code",
    "id": "sUSaTmrhEMxA",
    "outputId": "92e6c3c1-a414-445e-cc65-28b0a47c7618"
   },
   "outputs": [
    {
     "data": {
      "image/png": "[encoded data removed]",
      "text/plain": [
       "<Figure size 432x288 with 1 Axes>"
      ]
     },
     "metadata": {
      "tags": []
     },
     "output_type": "display_data"
    }
   ],
   "source": [
    "plt.title('HE1 vs Energy')\n",
    "plt.ylabel('Energy amount')\n",
    "plt.grid(True)\n",
    "#plt.autoscale(axis='x', tight=True)\n",
    "plt.plot(df_data)\n",
    "plt.plot(x,actual_predictions)\n",
    "plt.show()"
   ]
  },
  {
   "cell_type": "code",
   "execution_count": 0,
   "metadata": {
    "colab": {},
    "colab_type": "code",
    "id": "8LWOvZBrElqW"
   },
   "outputs": [],
   "source": []
  }
 ],
 "metadata": {
  "colab": {
   "collapsed_sections": [],
   "name": "ForecastData.ipynb",
   "provenance": []
  },
  "kernelspec": {
   "display_name": "Python 3",
   "language": "python",
   "name": "python3"
  },
  "language_info": {
   "codemirror_mode": {
    "name": "ipython",
    "version": 3
   },
   "file_extension": ".py",
   "mimetype": "text/x-python",
   "name": "python",
   "nbconvert_exporter": "python",
   "pygments_lexer": "ipython3",
   "version": "3.7.4"
  }
 },
 "nbformat": 4,
 "nbformat_minor": 1
}

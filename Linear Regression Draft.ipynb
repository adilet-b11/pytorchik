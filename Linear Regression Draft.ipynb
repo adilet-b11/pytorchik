{
 "cells": [
  {
   "cell_type": "code",
   "execution_count": 1,
   "metadata": {},
   "outputs": [],
   "source": [
    "import torch\n",
    "import torch.nn as nn\n",
    "import matplotlib.pyplot as plt\n",
    "import numpy as np"
   ]
  },
  {
   "cell_type": "code",
   "execution_count": 2,
   "metadata": {},
   "outputs": [
    {
     "data": {
      "text/plain": [
       "Text(0.5, 0, 'x')"
      ]
     },
     "execution_count": 2,
     "metadata": {},
     "output_type": "execute_result"
    },
    {
     "data": {
      "image/png": "[encoded data removed]",
      "text/plain": [
       "<Figure size 432x288 with 1 Axes>"
      ]
     },
     "metadata": {
      "needs_background": "light"
     },
     "output_type": "display_data"
    }
   ],
   "source": [
    "X = torch.randn(100,1)*10\n",
    "y = X + 3 * torch.randn(100, 1)\n",
    "plt.plot(X.numpy(),y.numpy(),'o')\n",
    "plt.ylabel('y')\n",
    "plt.xlabel('x')"
   ]
  },
  {
   "cell_type": "code",
   "execution_count": 3,
   "metadata": {},
   "outputs": [],
   "source": [
    "class LR(nn.Module):\n",
    "    def __init__(self, input_size, output_size):\n",
    "        super().__init__()\n",
    "        self.linear = nn.Linear(input_size, output_size)\n",
    "    def forward(self, x):\n",
    "        pred = self.linear(x)\n",
    "        return pred"
   ]
  },
  {
   "cell_type": "code",
   "execution_count": 4,
   "metadata": {},
   "outputs": [],
   "source": [
    "torch.manual_seed(1)\n",
    "model = LR(1,1)"
   ]
  },
  {
   "cell_type": "code",
   "execution_count": 5,
   "metadata": {},
   "outputs": [
    {
     "data": {
      "text/plain": [
       "Parameter containing:\n",
       "tensor([-0.4414], requires_grad=True)"
      ]
     },
     "execution_count": 5,
     "metadata": {},
     "output_type": "execute_result"
    }
   ],
   "source": [
    "[w, b] = model.parameters()\n",
    "def get_params():\n",
    "    return (w[0][0].item(), b[0].item())\n",
    "b"
   ]
  },
  {
   "cell_type": "code",
   "execution_count": 6,
   "metadata": {},
   "outputs": [],
   "source": [
    "def plot_fit(title):\n",
    "    plt.title = title\n",
    "    w1, b1 = get_params()\n",
    "    x1 = np.array([-30, 30])\n",
    "    y1 = w1 * x1 + b1\n",
    "    plt.plot(x1, y1, 'r')\n",
    "    plt.scatter(X,y)\n",
    "    plt.show()"
   ]
  },
  {
   "cell_type": "code",
   "execution_count": 7,
   "metadata": {},
   "outputs": [
    {
     "data": {
      "image/png": "[encoded data removed]",
      "text/plain": [
       "<Figure size 432x288 with 1 Axes>"
      ]
     },
     "metadata": {
      "needs_background": "light"
     },
     "output_type": "display_data"
    }
   ],
   "source": [
    "plot_fit('Initial Model')"
   ]
  },
  {
   "cell_type": "code",
   "execution_count": 8,
   "metadata": {},
   "outputs": [],
   "source": [
    "criterion = nn.MSELoss()\n",
    "optimizer = torch.optim.SGD(model.parameters(), lr = 0.01)"
   ]
  },
  {
   "cell_type": "code",
   "execution_count": 14,
   "metadata": {},
   "outputs": [
    {
     "name": "stdout",
     "output_type": "stream",
     "text": [
      "epoch: 0 loss 8.163704872131348\n",
      "epoch: 1 loss 8.163654327392578\n",
      "epoch: 2 loss 8.163606643676758\n",
      "epoch: 3 loss 8.163559913635254\n",
      "epoch: 4 loss 8.1635160446167\n",
      "epoch: 5 loss 8.163471221923828\n",
      "epoch: 6 loss 8.163430213928223\n",
      "epoch: 7 loss 8.163390159606934\n",
      "epoch: 8 loss 8.163351058959961\n",
      "epoch: 9 loss 8.163315773010254\n",
      "epoch: 10 loss 8.163280487060547\n",
      "epoch: 11 loss 8.163246154785156\n",
      "epoch: 12 loss 8.163212776184082\n",
      "epoch: 13 loss 8.16318130493164\n",
      "epoch: 14 loss 8.163150787353516\n",
      "epoch: 15 loss 8.163121223449707\n",
      "epoch: 16 loss 8.163094520568848\n",
      "epoch: 17 loss 8.163067817687988\n",
      "epoch: 18 loss 8.163043022155762\n",
      "epoch: 19 loss 8.163017272949219\n",
      "epoch: 20 loss 8.162993431091309\n",
      "epoch: 21 loss 8.162971496582031\n",
      "epoch: 22 loss 8.162948608398438\n",
      "epoch: 23 loss 8.162927627563477\n",
      "epoch: 24 loss 8.162906646728516\n",
      "epoch: 25 loss 8.162886619567871\n",
      "epoch: 26 loss 8.162869453430176\n",
      "epoch: 27 loss 8.162851333618164\n",
      "epoch: 28 loss 8.162832260131836\n",
      "epoch: 29 loss 8.162817001342773\n",
      "epoch: 30 loss 8.162799835205078\n",
      "epoch: 31 loss 8.162784576416016\n",
      "epoch: 32 loss 8.16277027130127\n",
      "epoch: 33 loss 8.162755966186523\n",
      "epoch: 34 loss 8.162742614746094\n",
      "epoch: 35 loss 8.162729263305664\n",
      "epoch: 36 loss 8.16271686553955\n",
      "epoch: 37 loss 8.162704467773438\n",
      "epoch: 38 loss 8.162692070007324\n",
      "epoch: 39 loss 8.162681579589844\n",
      "epoch: 40 loss 8.162671089172363\n",
      "epoch: 41 loss 8.162659645080566\n",
      "epoch: 42 loss 8.162649154663086\n",
      "epoch: 43 loss 8.162640571594238\n",
      "epoch: 44 loss 8.16263198852539\n",
      "epoch: 45 loss 8.162622451782227\n",
      "epoch: 46 loss 8.162613868713379\n",
      "epoch: 47 loss 8.162605285644531\n",
      "epoch: 48 loss 8.162598609924316\n",
      "epoch: 49 loss 8.162590026855469\n",
      "epoch: 50 loss 8.162582397460938\n",
      "epoch: 51 loss 8.162575721740723\n",
      "epoch: 52 loss 8.162569046020508\n",
      "epoch: 53 loss 8.16256332397461\n",
      "epoch: 54 loss 8.162557601928711\n",
      "epoch: 55 loss 8.162550926208496\n",
      "epoch: 56 loss 8.162544250488281\n",
      "epoch: 57 loss 8.162540435791016\n",
      "epoch: 58 loss 8.1625337600708\n",
      "epoch: 59 loss 8.162528991699219\n",
      "epoch: 60 loss 8.162524223327637\n",
      "epoch: 61 loss 8.162520408630371\n",
      "epoch: 62 loss 8.162514686584473\n",
      "epoch: 63 loss 8.16250991821289\n",
      "epoch: 64 loss 8.162507057189941\n",
      "epoch: 65 loss 8.16250228881836\n",
      "epoch: 66 loss 8.162498474121094\n",
      "epoch: 67 loss 8.162495613098145\n",
      "epoch: 68 loss 8.162491798400879\n",
      "epoch: 69 loss 8.162487983703613\n",
      "epoch: 70 loss 8.162484169006348\n",
      "epoch: 71 loss 8.162481307983398\n",
      "epoch: 72 loss 8.162477493286133\n",
      "epoch: 73 loss 8.162474632263184\n",
      "epoch: 74 loss 8.162473678588867\n",
      "epoch: 75 loss 8.162468910217285\n",
      "epoch: 76 loss 8.162467956542969\n",
      "epoch: 77 loss 8.162464141845703\n",
      "epoch: 78 loss 8.162461280822754\n",
      "epoch: 79 loss 8.162459373474121\n",
      "epoch: 80 loss 8.162457466125488\n",
      "epoch: 81 loss 8.162454605102539\n",
      "epoch: 82 loss 8.162453651428223\n",
      "epoch: 83 loss 8.16245174407959\n",
      "epoch: 84 loss 8.16244888305664\n",
      "epoch: 85 loss 8.16244888305664\n",
      "epoch: 86 loss 8.162445068359375\n",
      "epoch: 87 loss 8.162443161010742\n",
      "epoch: 88 loss 8.162442207336426\n",
      "epoch: 89 loss 8.16244125366211\n",
      "epoch: 90 loss 8.162440299987793\n",
      "epoch: 91 loss 8.16243839263916\n",
      "epoch: 92 loss 8.162436485290527\n",
      "epoch: 93 loss 8.162435531616211\n",
      "epoch: 94 loss 8.162433624267578\n",
      "epoch: 95 loss 8.162433624267578\n",
      "epoch: 96 loss 8.162432670593262\n",
      "epoch: 97 loss 8.162430763244629\n",
      "epoch: 98 loss 8.162428855895996\n",
      "epoch: 99 loss 8.162428855895996\n"
     ]
    }
   ],
   "source": [
    "epochs = 100\n",
    "losses = []\n",
    "for i in range(epochs):\n",
    "    y_pred = model.forward(X)\n",
    "    loss = criterion(y_pred, y)\n",
    "    print('epoch:',i,'loss' ,loss.item())\n",
    "    losses.append(loss)\n",
    "    optimizer.zero_grad()\n",
    "    loss.backward()\n",
    "    optimizer.step()"
   ]
  },
  {
   "cell_type": "code",
   "execution_count": 15,
   "metadata": {},
   "outputs": [
    {
     "data": {
      "text/plain": [
       "Text(0.5, 0, 'epochs')"
      ]
     },
     "execution_count": 15,
     "metadata": {},
     "output_type": "execute_result"
    },
    {
     "data": {
      "image/png": "[encoded data removed]",
      "text/plain": [
       "<Figure size 432x288 with 1 Axes>"
      ]
     },
     "metadata": {
      "needs_background": "light"
     },
     "output_type": "display_data"
    }
   ],
   "source": [
    "plt.plot(range(epochs), losses)\n",
    "plt.ylabel('loss')\n",
    "plt.xlabel('epochs')"
   ]
  },
  {
   "cell_type": "code",
   "execution_count": 16,
   "metadata": {},
   "outputs": [
    {
     "data": {
      "image/png": "[encoded data removed]",
      "text/plain": [
       "<Figure size 432x288 with 1 Axes>"
      ]
     },
     "metadata": {
      "needs_background": "light"
     },
     "output_type": "display_data"
    }
   ],
   "source": [
    "plot_fit('Trained Model')"
   ]
  },
  {
   "cell_type": "code",
   "execution_count": null,
   "metadata": {},
   "outputs": [],
   "source": []
  }
 ],
 "metadata": {
  "kernelspec": {
   "display_name": "Python 3",
   "language": "python",
   "name": "python3"
  },
  "language_info": {
   "codemirror_mode": {
    "name": "ipython",
    "version": 3
   },
   "file_extension": ".py",
   "mimetype": "text/x-python",
   "name": "python",
   "nbconvert_exporter": "python",
   "pygments_lexer": "ipython3",
   "version": "3.7.4"
  }
 },
 "nbformat": 4,
 "nbformat_minor": 2
}
